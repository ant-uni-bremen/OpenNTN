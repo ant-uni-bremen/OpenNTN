{
 "cells": [
  {
   "cell_type": "markdown",
   "metadata": {},
   "source": [
    "# Simple NTN simulations with Sionna"
   ]
  },
  {
   "cell_type": "markdown",
   "metadata": {},
   "source": [
    "This tutorial will present the use of the different NTN channel models based on the 3GPP TR38.811 standard. The implementation is very simalar to the already in Sionna existing TR38.901 implementations for terrestrial networks, the main difference being a few of the required parameters during initialition. In this tutorial we will setup a small end-to-end communications system, point out important parameters, and train a neural network on the new channels."
   ]
  },
  {
   "cell_type": "markdown",
   "metadata": {},
   "source": [
    "First, the imports"
   ]
  },
  {
   "cell_type": "code",
   "execution_count": 1,
   "metadata": {},
   "outputs": [],
   "source": [
    "import os\n",
    "gpu_num = \"\" # Use \"\" to use the CPU\n",
    "os.environ[\"CUDA_VISIBLE_DEVICES\"] = f\"{gpu_num}\"\n",
    "os.environ['TF_CPP_MIN_LOG_LEVEL'] = '3'\n",
    "# Import Sionna\n",
    "import sionna\n",
    "\n",
    "# Configure the notebook to use only a single GPU and allocate only as much memory as needed\n",
    "# For more details, see https://www.tensorflow.org/guide/gpu\n",
    "import tensorflow as tf\n",
    "gpus = tf.config.list_physical_devices('GPU')\n",
    "if gpus:\n",
    "    try:\n",
    "        tf.config.experimental.set_memory_growth(gpus[0], True)\n",
    "    except RuntimeError as e:\n",
    "        print(e)\n",
    "# Avoid warnings from TensorFlow\n",
    "tf.get_logger().setLevel('ERROR')\n",
    "\n",
    "import matplotlib.pyplot as plt\n",
    "import numpy as np\n",
    "import time\n",
    "import pickle\n",
    "\n",
    "from sionna.mimo import StreamManagement\n",
    "\n",
    "from sionna.ofdm import ResourceGrid, ResourceGridMapper, LSChannelEstimator, LMMSEEqualizer\n",
    "from sionna.ofdm import OFDMModulator, OFDMDemodulator, ZFPrecoder, RemoveNulledSubcarriers\n",
    "\n",
    "from sionna.channel.tr38811 import Antenna, AntennaArray, CDL, DenseUrban, Urban, SubUrban\n",
    "from sionna.channel.tr38811.utils import gen_single_sector_topology as gen_topology\n",
    "from sionna.channel import subcarrier_frequencies, cir_to_ofdm_channel, cir_to_time_channel\n",
    "from sionna.channel import ApplyOFDMChannel, ApplyTimeChannel, OFDMChannel\n",
    "\n",
    "from sionna.fec.ldpc.encoding import LDPC5GEncoder\n",
    "from sionna.fec.ldpc.decoding import LDPC5GDecoder\n",
    "\n",
    "from sionna.mapping import Mapper, Demapper\n",
    "\n",
    "from sionna.utils import BinarySource, ebnodb2no, sim_ber, QAMSource\n",
    "from sionna.utils.metrics import compute_ber\n",
    "\n",
    "from tensorflow.keras import Model"
   ]
  },
  {
   "cell_type": "markdown",
   "metadata": {},
   "source": [
    "Next, the system setup."
   ]
  },
  {
   "cell_type": "code",
   "execution_count": 8,
   "metadata": {},
   "outputs": [
    {
     "ename": "AttributeError",
     "evalue": "module 'sionna' has no attribute 'config'",
     "output_type": "error",
     "traceback": [
      "\u001b[0;31m---------------------------------------------------------------------------\u001b[0m",
      "\u001b[0;31mAttributeError\u001b[0m                            Traceback (most recent call last)",
      "Cell \u001b[0;32mIn[8], line 47\u001b[0m\n\u001b[1;32m     44\u001b[0m topology \u001b[38;5;241m=\u001b[39m gen_topology(batch_size\u001b[38;5;241m=\u001b[39mbatch_size, num_ut\u001b[38;5;241m=\u001b[39mnum_ut, scenario\u001b[38;5;241m=\u001b[39mscenario, elevation_angle\u001b[38;5;241m=\u001b[39melevation_angle, bs_height \u001b[38;5;241m=\u001b[39m satellite_height)\n\u001b[1;32m     46\u001b[0m \u001b[38;5;66;03m# Set the topology\u001b[39;00m\n\u001b[0;32m---> 47\u001b[0m \u001b[43mchannel_model\u001b[49m\u001b[38;5;241;43m.\u001b[39;49m\u001b[43mset_topology\u001b[49m\u001b[43m(\u001b[49m\u001b[38;5;241;43m*\u001b[39;49m\u001b[43mtopology\u001b[49m\u001b[43m)\u001b[49m\n\u001b[1;32m     49\u001b[0m channel_model\u001b[38;5;241m.\u001b[39mshow_topology()\n",
      "File \u001b[0;32m~/anaconda3/envs/sionna_tr38811/lib/python3.9/site-packages/sionna/channel/tr38811/system_level_channel.py:137\u001b[0m, in \u001b[0;36mSystemLevelChannel.set_topology\u001b[0;34m(self, ut_loc, bs_loc, ut_orientations, bs_orientations, ut_velocities, in_state, los)\u001b[0m\n\u001b[1;32m    127\u001b[0m need_for_update \u001b[38;5;241m=\u001b[39m \u001b[38;5;28mself\u001b[39m\u001b[38;5;241m.\u001b[39m_scenario\u001b[38;5;241m.\u001b[39mset_topology(  ut_loc,\n\u001b[1;32m    128\u001b[0m                                                 bs_loc,\n\u001b[1;32m    129\u001b[0m                                                 ut_orientations,\n\u001b[0;32m   (...)\u001b[0m\n\u001b[1;32m    132\u001b[0m                                                 in_state,\n\u001b[1;32m    133\u001b[0m                                                 los)\n\u001b[1;32m    135\u001b[0m \u001b[38;5;28;01mif\u001b[39;00m need_for_update:\n\u001b[1;32m    136\u001b[0m     \u001b[38;5;66;03m# Update the LSP sampler\u001b[39;00m\n\u001b[0;32m--> 137\u001b[0m     \u001b[38;5;28;43mself\u001b[39;49m\u001b[38;5;241;43m.\u001b[39;49m\u001b[43m_lsp_sampler\u001b[49m\u001b[38;5;241;43m.\u001b[39;49m\u001b[43mtopology_updated_callback\u001b[49m\u001b[43m(\u001b[49m\u001b[43m)\u001b[49m\n\u001b[1;32m    139\u001b[0m     \u001b[38;5;66;03m# Update the ray sampler\u001b[39;00m\n\u001b[1;32m    140\u001b[0m     \u001b[38;5;28mself\u001b[39m\u001b[38;5;241m.\u001b[39m_ray_sampler\u001b[38;5;241m.\u001b[39mtopology_updated_callback()\n",
      "File \u001b[0;32m~/anaconda3/envs/sionna_tr38811/lib/python3.9/site-packages/sionna/channel/tr38811/lsp.py:184\u001b[0m, in \u001b[0;36mLSPGenerator.topology_updated_callback\u001b[0;34m(self)\u001b[0m\n\u001b[1;32m    167\u001b[0m \u001b[38;5;250m\u001b[39m\u001b[38;5;124;03m\"\"\"\u001b[39;00m\n\u001b[1;32m    168\u001b[0m \u001b[38;5;124;03mUpdates internal quantities. Must be called at every update of the\u001b[39;00m\n\u001b[1;32m    169\u001b[0m \u001b[38;5;124;03mscenario that changes the state of UTs or their locations.\u001b[39;00m\n\u001b[0;32m   (...)\u001b[0m\n\u001b[1;32m    177\u001b[0m \u001b[38;5;124;03mNone\u001b[39;00m\n\u001b[1;32m    178\u001b[0m \u001b[38;5;124;03m\"\"\"\u001b[39;00m\n\u001b[1;32m    180\u001b[0m \u001b[38;5;66;03m# Pre-computing these quantities avoid unnecessary calculations at every\u001b[39;00m\n\u001b[1;32m    181\u001b[0m \u001b[38;5;66;03m# generation of new LSPs\u001b[39;00m\n\u001b[1;32m    182\u001b[0m \n\u001b[1;32m    183\u001b[0m \u001b[38;5;66;03m# Compute cross-LSP correlation matrix\u001b[39;00m\n\u001b[0;32m--> 184\u001b[0m \u001b[38;5;28;43mself\u001b[39;49m\u001b[38;5;241;43m.\u001b[39;49m\u001b[43m_compute_cross_lsp_correlation_matrix\u001b[49m\u001b[43m(\u001b[49m\u001b[43m)\u001b[49m\n\u001b[1;32m    186\u001b[0m \u001b[38;5;66;03m# Compute LSP spatial correlation matrix\u001b[39;00m\n\u001b[1;32m    187\u001b[0m \u001b[38;5;28mself\u001b[39m\u001b[38;5;241m.\u001b[39m_compute_lsp_spatial_correlation_sqrt()\n",
      "File \u001b[0;32m~/anaconda3/envs/sionna_tr38811/lib/python3.9/site-packages/sionna/channel/tr38811/lsp.py:298\u001b[0m, in \u001b[0;36mLSPGenerator._compute_cross_lsp_correlation_matrix\u001b[0;34m(self)\u001b[0m\n\u001b[1;32m    292\u001b[0m cross_lsp_corr_mat \u001b[38;5;241m=\u001b[39m _add_param(cross_lsp_corr_mat, \u001b[38;5;124m'\u001b[39m\u001b[38;5;124mcorrZSDvsZSA\u001b[39m\u001b[38;5;124m'\u001b[39m, \u001b[38;5;241m5\u001b[39m,\u001b[38;5;241m6\u001b[39m)\n\u001b[1;32m    294\u001b[0m \u001b[38;5;66;03m# Compute and store the square root of the cross-LSP correlation\u001b[39;00m\n\u001b[1;32m    295\u001b[0m \u001b[38;5;66;03m# matrix\u001b[39;00m\n\u001b[1;32m    296\u001b[0m \u001b[38;5;66;03m#print(\"In LSP: \", cross_lsp_corr_mat)\u001b[39;00m\n\u001b[0;32m--> 298\u001b[0m \u001b[38;5;28mself\u001b[39m\u001b[38;5;241m.\u001b[39m_cross_lsp_correlation_matrix_sqrt \u001b[38;5;241m=\u001b[39m \u001b[43mmatrix_sqrt\u001b[49m\u001b[43m(\u001b[49m\n\u001b[1;32m    299\u001b[0m \u001b[43m        \u001b[49m\u001b[43mcross_lsp_corr_mat\u001b[49m\u001b[43m)\u001b[49m\n",
      "File \u001b[0;32m~/anaconda3/envs/sionna_tr38811/lib/python3.9/site-packages/sionna/utils/tensors.py:202\u001b[0m, in \u001b[0;36mmatrix_sqrt\u001b[0;34m(tensor)\u001b[0m\n\u001b[1;32m    178\u001b[0m \u001b[38;5;28;01mdef\u001b[39;00m \u001b[38;5;21mmatrix_sqrt\u001b[39m(tensor):\n\u001b[1;32m    179\u001b[0m \u001b[38;5;250m    \u001b[39m\u001b[38;5;124mr\u001b[39m\u001b[38;5;124;03m\"\"\" Computes the square root of a matrix.\u001b[39;00m\n\u001b[1;32m    180\u001b[0m \n\u001b[1;32m    181\u001b[0m \u001b[38;5;124;03m    Given a batch of Hermitian positive semi-definite matrices\u001b[39;00m\n\u001b[0;32m   (...)\u001b[0m\n\u001b[1;32m    200\u001b[0m \u001b[38;5;124;03m        See :py:attr:`~sionna.config.xla_compat`.\u001b[39;00m\n\u001b[1;32m    201\u001b[0m \u001b[38;5;124;03m    \"\"\"\u001b[39;00m\n\u001b[0;32m--> 202\u001b[0m     \u001b[38;5;28;01mif\u001b[39;00m \u001b[43msn\u001b[49m\u001b[38;5;241;43m.\u001b[39;49m\u001b[43mconfig\u001b[49m\u001b[38;5;241m.\u001b[39mxla_compat \u001b[38;5;129;01mand\u001b[39;00m \u001b[38;5;129;01mnot\u001b[39;00m tf\u001b[38;5;241m.\u001b[39mexecuting_eagerly():\n\u001b[1;32m    203\u001b[0m         s, u \u001b[38;5;241m=\u001b[39m tf\u001b[38;5;241m.\u001b[39mlinalg\u001b[38;5;241m.\u001b[39meigh(tensor)\n\u001b[1;32m    205\u001b[0m         \u001b[38;5;66;03m# Compute sqrt of eigenvalues\u001b[39;00m\n",
      "\u001b[0;31mAttributeError\u001b[0m: module 'sionna' has no attribute 'config'"
     ]
    }
   ],
   "source": [
    "# seed for reproducability\n",
    "tf.random.set_seed(1)\n",
    "\n",
    "# You can choose \"dur\" for DenseUrban, \"sur\" for SubUrban, or \"urb\" for Urban\n",
    "scenario = \"dur\"\n",
    "# Frequencies between 1 and 100GHz are supported by the model\n",
    "carrier_frequency = 30e9\n",
    "# Orbit height of the satellite in meters. Should be between 160e3 and 36000e3\n",
    "satellite_height = 600000.0 #this is a LEO orbit\n",
    "# The basestation is the satellite, with the UT on ground transmitting to the satellite in uplink\n",
    "direction = \"uplink\"\n",
    "# Should be larger than 1\n",
    "num_ut = 2\n",
    "# Should be larger than 1\n",
    "batch_size = 32\n",
    "# All values between 0.0 and 90.0 degrees are supported\n",
    "elevation_angle = 80.0\n",
    "\n",
    "# Array of the users. The antenna will always point at the satellite. \n",
    "ut_array = Antenna(polarization=\"single\",\n",
    "                   polarization_type=\"V\",\n",
    "                   antenna_pattern=\"38.901\",\n",
    "                   carrier_frequency=carrier_frequency)\n",
    "\n",
    "# Aperture is a new antenna typ from the NTN standard only available for satellites\n",
    "bs_array = AntennaArray(num_rows=1,\n",
    "                        num_cols=4,\n",
    "                        polarization=\"dual\",\n",
    "                        polarization_type=\"VH\",\n",
    "                        antenna_pattern=\"aperture\",\n",
    "                        carrier_frequency=carrier_frequency)\n",
    "\n",
    "# Compared to 901 the o2i chance is missing, as indoor scenarios are not supported for satellites.\n",
    "# Additionally the elevation angle in degrees is required\n",
    "channel_model = DenseUrban(carrier_frequency=carrier_frequency,\n",
    "                    elevation_angle=elevation_angle,\n",
    "                    ut_array=ut_array,\n",
    "                    bs_array=bs_array,\n",
    "                    direction=direction,\n",
    "                    enable_pathloss=True,\n",
    "                    enable_shadow_fading=True)\n",
    "\n",
    "# Generate the topology\n",
    "topology = gen_topology(batch_size=batch_size, num_ut=num_ut, scenario=scenario, elevation_angle=elevation_angle, bs_height = satellite_height)\n",
    "\n",
    "# Set the topology\n",
    "channel_model.set_topology(*topology)\n",
    "\n",
    "channel_model.show_topology()\n"
   ]
  },
  {
   "cell_type": "code",
   "execution_count": 1,
   "metadata": {},
   "outputs": [
    {
     "ename": "NameError",
     "evalue": "name 'channel_model' is not defined",
     "output_type": "error",
     "traceback": [
      "\u001b[0;31m---------------------------------------------------------------------------\u001b[0m",
      "\u001b[0;31mNameError\u001b[0m                                 Traceback (most recent call last)",
      "Cell \u001b[0;32mIn[1], line 2\u001b[0m\n\u001b[1;32m      1\u001b[0m \u001b[38;5;66;03m# Visualize the topology\u001b[39;00m\n\u001b[0;32m----> 2\u001b[0m \u001b[43mchannel_model\u001b[49m\u001b[38;5;241m.\u001b[39mshow_topology()\n",
      "\u001b[0;31mNameError\u001b[0m: name 'channel_model' is not defined"
     ]
    }
   ],
   "source": [
    "# Visualize the topology\n",
    "channel_model.show_topology()"
   ]
  },
  {
   "cell_type": "markdown",
   "metadata": {},
   "source": [
    "We note that all UTs are pointing towards the satellite (base station), which in turn in pointing directly down. This allows for the gain pattern to only be a function of the elevation angle. Future version considering misalignment of the UTs are currently being investigated. Additionally, we not that the UTs are relatively close to each other, but far away from the satellite. The distnace to the satellite depends on the elevation angle and satellite orbit, the distance between UTs depends on the chosen scenario.\n",
    "\n",
    "Next, we define a simple OFDM channel."
   ]
  },
  {
   "cell_type": "code",
   "execution_count": null,
   "metadata": {},
   "outputs": [
    {
     "data": {
      "image/png": "[encoded data removed]",
      "text/plain": [
       "<Figure size 640x480 with 1 Axes>"
      ]
     },
     "metadata": {},
     "output_type": "display_data"
    }
   ],
   "source": [
    "# seed for reproducability\n",
    "tf.random.set_seed(1)\n",
    "\n",
    "# You can choose \"dur\" for DenseUrban, \"sur\" for SubUrban, or \"urb\" for Urban\n",
    "scenario = \"dur\"\n",
    "# Frequencies between 1 and 100GHz are supported by the model\n",
    "carrier_frequency = 30e9\n",
    "# Orbit height of the satellite in meters. Should be between 160e3 and 36000e3\n",
    "satellite_height = 600e3 #this is a LEO orbit\n",
    "# The basestation is the satellite, with the UT on ground transmitting to the satellite in uplink\n",
    "direction = \"uplink\"\n",
    "# Should be larger than 1\n",
    "num_ut = 2\n",
    "# Should be larger than 1\n",
    "batch_size = 32\n",
    "# All values between 0.0 and 90.0 degrees are supported\n",
    "elevation_angle = 80.0\n",
    "\n",
    "# Array of the users. The antenna will always point at the satellite. \n",
    "ut_array = Antenna(polarization=\"single\",\n",
    "                   polarization_type=\"V\",\n",
    "                   antenna_pattern=\"38.901\",\n",
    "                   carrier_frequency=carrier_frequency)\n",
    "\n",
    "# Aperture is a new antenna typ from the NTN standard only available for satellites\n",
    "bs_array = AntennaArray(num_rows=1,\n",
    "                        num_cols=4,\n",
    "                        polarization=\"dual\",\n",
    "                        polarization_type=\"VH\",\n",
    "                        antenna_pattern=\"aperture\",\n",
    "                        carrier_frequency=carrier_frequency)\n",
    "\n",
    "# Compared to 901 the o2i chance is missing, as indoor scenarios are not supported for satellites.\n",
    "# Additionally the elevation angle in degrees is required\n",
    "channel_model = DenseUrban(carrier_frequency=carrier_frequency,\n",
    "                    elevation_angle=elevation_angle,\n",
    "                    ut_array=ut_array,\n",
    "                    bs_array=bs_array,\n",
    "                    direction=direction,\n",
    "                    enable_pathloss=True,\n",
    "                    enable_shadow_fading=True)\n",
    "\n",
    "# Generate the topology\n",
    "topology = gen_topology(batch_size=batch_size, num_ut=num_ut, scenario=scenario, elevation_angle=elevation_angle,bs_height = satellite_height)\n",
    "\n",
    "# Set the topology\n",
    "channel_model.set_topology(*topology)\n",
    "\n",
    "channel_model.show_topology()\n"
   ]
  },
  {
   "cell_type": "code",
   "execution_count": null,
   "metadata": {},
   "outputs": [
    {
     "name": "stdout",
     "output_type": "stream",
     "text": [
      "sampling frequency is:  25945.945945945947\n",
      "Number time steps:  tf.Tensor(\n",
      "[0.0000000e+00 3.8541668e-05 7.7083336e-05 1.1562500e-04 1.5416667e-04\n",
      " 1.9270834e-04 2.3125000e-04 2.6979166e-04 3.0833334e-04 3.4687502e-04\n",
      " 3.8541667e-04 4.2395835e-04 4.6250000e-04 5.0104165e-04], shape=(14,), dtype=float32)\n",
      "Number time steps:  tf.Tensor(\n",
      "[0.0000000e+00 3.8541668e-05 7.7083336e-05 1.1562500e-04 1.5416667e-04\n",
      " 1.9270834e-04 2.3125000e-04 2.6979166e-04 3.0833334e-04 3.4687502e-04\n",
      " 3.8541667e-04 4.2395835e-04 4.6250000e-04 5.0104165e-04], shape=(14,), dtype=float32)\n",
      "a is  (32, 1, 8, 2, 1, 8, 14)\n",
      "tau is  (32, 1, 2, 8)\n",
      "BER: 0.11580403645833333\n"
     ]
    }
   ],
   "source": [
    "# The number of transmitted streams is equal to the number of UT antennas\n",
    "num_streams_per_tx = 1\n",
    "\n",
    "# Create an RX-TX association matrix\n",
    "# rx_tx_association[i,j]=1 means that receiver i gets at least one stream\n",
    "# from transmitter j. Depending on the transmission direction (uplink or downlink),\n",
    "# the role of UT and BS can change. However, as we have only a single\n",
    "# transmitter and receiver, this does not matter:\n",
    "rx_tx_association = np.zeros([1, num_ut])\n",
    "rx_tx_association[0, :] = 1\n",
    "\n",
    "# Instantiate a StreamManagement object\n",
    "# This determines which data streams are determined for which receiver.\n",
    "# In this simple setup, this is fairly simple. However, it can get complicated\n",
    "# for simulations with many transmitters and receivers.\n",
    "sm = StreamManagement(rx_tx_association, num_streams_per_tx)\n",
    "\n",
    "rg = ResourceGrid(num_ofdm_symbols=14,\n",
    "                  fft_size=128,\n",
    "                  subcarrier_spacing=30e3,\n",
    "                  num_tx=num_ut,\n",
    "                  num_streams_per_tx=num_streams_per_tx,\n",
    "                  cyclic_prefix_length=20,\n",
    "                  pilot_pattern=\"kronecker\",\n",
    "                  pilot_ofdm_symbol_indices=[2,11])\n",
    "#rg.show()\n",
    "\n",
    "num_bits_per_symbol = 2 # QPSK modulation\n",
    "coderate = 0.5 # The code rate\n",
    "n = int(rg.num_data_symbols*num_bits_per_symbol) # Number of coded bits\n",
    "k = int(n*coderate) # Number of information bits\n",
    "\n",
    "# The binary source will create batches of information bits\n",
    "binary_source = BinarySource()\n",
    "qam_source = QAMSource(num_bits_per_symbol)\n",
    "\n",
    "# The encoder maps information bits to coded bits\n",
    "encoder = LDPC5GEncoder(k, n)\n",
    "\n",
    "# The mapper maps blocks of information bits to constellation symbols\n",
    "mapper = Mapper(\"qam\", num_bits_per_symbol)\n",
    "\n",
    "# The resource grid mapper maps symbols onto an OFDM resource grid\n",
    "rg_mapper = ResourceGridMapper(rg)\n",
    "\n",
    "# This function removes nulled subcarriers from any tensor having the shape of a resource grid\n",
    "remove_nulled_scs = RemoveNulledSubcarriers(rg)\n",
    "\n",
    "# The LS channel estimator will provide channel estimates and error variances\n",
    "ls_est = LSChannelEstimator(rg, interpolation_type=\"nn\")\n",
    "\n",
    "# The LMMSE equalizer will provide soft symbols together with noise variance estimates\n",
    "lmmse_equ = LMMSEEqualizer(rg, sm)\n",
    "\n",
    "# The demapper produces LLR for all coded bits\n",
    "demapper = Demapper(\"app\", \"qam\", num_bits_per_symbol)\n",
    "\n",
    "# The decoder provides hard-decisions on the information bits\n",
    "decoder = LDPC5GDecoder(encoder, hard_out=True)\n",
    "\n",
    "# OFDM CHannel\n",
    "ofdm_channel = OFDMChannel(channel_model, rg, add_awgn=True, normalize_channel=False, return_channel=True)\n",
    "channel_freq = ApplyOFDMChannel(add_awgn=True)\n",
    "frequencies = subcarrier_frequencies(rg.fft_size, rg.subcarrier_spacing)\n",
    "\n",
    "ebno_db = 10\n",
    "no = ebnodb2no(ebno_db, num_bits_per_symbol, coderate, rg)\n",
    "b = binary_source([batch_size, num_ut, rg.num_streams_per_tx, encoder.k])\n",
    "c = encoder(b)\n",
    "x = mapper(c)\n",
    "x_rg = rg_mapper(x)\n",
    "\n",
    "a, tau = channel_model(num_time_samples=rg.num_ofdm_symbols, sampling_frequency=1/rg.ofdm_symbol_duration)\n",
    "print(\"a is \", a.shape)\n",
    "print(\"tau is \", tau.shape)\n",
    "h_freq = cir_to_ofdm_channel(frequencies, a, tau, normalize=True)\n",
    "\n",
    "y = channel_freq([x_rg, h_freq, no])\n",
    "h_hat, err_var = ls_est ([y, no])\n",
    "x_hat, no_eff = lmmse_equ([y, h_hat, err_var, no])\n",
    "llr = demapper([x_hat, no_eff])\n",
    "b_hat = decoder(llr)\n",
    "print(\"BER: {}\".format(compute_ber(b, b_hat).numpy()))"
   ]
  },
  {
   "cell_type": "markdown",
   "metadata": {},
   "source": [
    "And plot the results"
   ]
  },
  {
   "cell_type": "code",
   "execution_count": null,
   "metadata": {},
   "outputs": [],
   "source": [
    "plt.figure()\n",
    "plt.plot(np.real(h_perf))\n",
    "plt.plot(np.imag(h_perf))\n",
    "plt.plot(np.real(h_est), \"--\")\n",
    "plt.plot(np.imag(h_est), \"--\")\n",
    "plt.xlabel(\"Subcarrier index\")\n",
    "plt.ylabel(\"Channel frequency response\")\n",
    "plt.legend([\"Ideal (real part)\", \"Ideal (imaginary part)\", \"Estimated (real part)\", \"Estimated (imaginary part)\"]);\n",
    "plt.title(\"Comparison of channel frequency responses\");"
   ]
  },
  {
   "cell_type": "markdown",
   "metadata": {},
   "source": [
    "Next, we test the difference over different channel models. Do do that, we create three scenarios and plot there channel consition numbers"
   ]
  },
  {
   "cell_type": "code",
   "execution_count": null,
   "metadata": {},
   "outputs": [],
   "source": [
    "def cond_hist(channel_model):\n",
    "    \"\"\"Generates a histogram of the channel condition numbers\"\"\"\n",
    "    channel_model = channel_model\n",
    "    \n",
    "    # Generate random CIR realizations\n",
    "    # As we nned only a single sample in time, the sampling_frequency\n",
    "    # does not matter.\n",
    "    cir = channel_model(1, 1)\n",
    "    \n",
    "    # Compute the frequency response\n",
    "    h = cir_to_ofdm_channel(frequencies, *cir, normalize=True)\n",
    "    \n",
    "    h = tf.squeeze(h)\n",
    "    h = tf.transpose(h, [0,3,1,2])\n",
    "    \n",
    "    # Compute condition number\n",
    "    c = np.reshape(np.linalg.cond(h), [-1])\n",
    "    \n",
    "    # Compute normalized histogram\n",
    "    hist, bins = np.histogram(c, 100, (1,150))\n",
    "    hist = hist/np.sum(hist)\n",
    "    return bins[:-1], hist"
   ]
  },
  {
   "cell_type": "code",
   "execution_count": null,
   "metadata": {},
   "outputs": [],
   "source": [
    "bins, hist = cond_hist(channel_model)\n",
    "plt.plot(bins, np.cumsum(hist))\n",
    "plt.xlim([0,40])\n",
    "plt.legend([\"UMi\", \"UMa\", \"RMa\"]);\n",
    "plt.xlabel(\"Channel Condition Number\")\n",
    "plt.ylabel(\"CDF\")\n",
    "plt.title(\"CDF of the channel condition number\");"
   ]
  },
  {
   "cell_type": "code",
   "execution_count": null,
   "metadata": {},
   "outputs": [],
   "source": [
    "def get_channel_model(model_type):\n",
    "    if model_type == \"dur\":\n",
    "        channel_model = DenseUrban(carrier_frequency=carrier_frequency,\n",
    "                        elevation_angle=elevation_angle,\n",
    "                        ut_array=ut_array,\n",
    "                        bs_array=bs_array,\n",
    "                        direction=direction,\n",
    "                        enable_pathloss=False,\n",
    "                        enable_shadow_fading=False)\n",
    "    elif model_type == \"sur\":\n",
    "        channel_model = SubUrban(carrier_frequency=carrier_frequency,\n",
    "                        elevation_angle=elevation_angle,\n",
    "                        ut_array=ut_array,\n",
    "                        bs_array=bs_array,\n",
    "                        direction=direction,\n",
    "                        enable_pathloss=False,\n",
    "                        enable_shadow_fading=False)\n",
    "    else:\n",
    "        channel_model = Urban(carrier_frequency=carrier_frequency,\n",
    "                        elevation_angle=elevation_angle,\n",
    "                        ut_array=ut_array,\n",
    "                        bs_array=bs_array,\n",
    "                        direction=direction,\n",
    "                        enable_pathloss=False,\n",
    "                        enable_shadow_fading=False)\n",
    "\n",
    "    # Generate the topology\n",
    "    topology = gen_topology(batch_size, num_ut, scenario)\n",
    "    \n",
    "    # Set the topology\n",
    "    channel_model.set_topology(*topology)\n",
    "    \n",
    "    return channel_model"
   ]
  },
  {
   "cell_type": "code",
   "execution_count": null,
   "metadata": {},
   "outputs": [],
   "source": [
    "for model_type in [\"dur\", \"sur\", \"urb\"]:\n",
    "    channel_model = get_channel_model(model_type)\n",
    "    bins, hist = cond_hist(channel_model)\n",
    "    plt.plot(bins, np.cumsum(hist))\n",
    "#plt.xlim([0,40])\n",
    "plt.legend([\"DUR\", \"SUR\", \"URB\"]);\n",
    "plt.xlabel(\"Channel Condition Number\")\n",
    "plt.ylabel(\"CDF\")\n",
    "plt.title(\"CDF of the channel condition number\");"
   ]
  },
  {
   "cell_type": "markdown",
   "metadata": {},
   "source": [
    "We observe that the suburban model is conditioned the worst. However, this also changes with multiple factors, such as the elevation angle."
   ]
  },
  {
   "cell_type": "code",
   "execution_count": null,
   "metadata": {},
   "outputs": [],
   "source": [
    "def get_elevation_angle_model(elevation_angle_given):\n",
    "    \n",
    "    channel_model = Urban(carrier_frequency=carrier_frequency,\n",
    "                    elevation_angle=elevation_angle_given,\n",
    "                    ut_array=ut_array,\n",
    "                    bs_array=bs_array,\n",
    "                    direction=direction,\n",
    "                    enable_pathloss=False,\n",
    "                    enable_shadow_fading=False)\n",
    "\n",
    "    # Generate the topology\n",
    "    topology = gen_topology(batch_size, num_ut, scenario)\n",
    "    \n",
    "    # Set the topology\n",
    "    channel_model.set_topology(*topology)\n",
    "    \n",
    "    return channel_model"
   ]
  },
  {
   "cell_type": "code",
   "execution_count": null,
   "metadata": {},
   "outputs": [],
   "source": [
    "for elevation_angle in [10.0, 20.0, 30.0, 40.0, 50.0, 60.0, 70.0, 80.0, 90.0]:\n",
    "    channel_model = get_elevation_angle_model(elevation_angle)\n",
    "    bins, hist = cond_hist(channel_model)\n",
    "    plt.plot(bins, np.cumsum(hist))\n",
    "#plt.xlim([0,40])\n",
    "plt.legend([10.0, 20.0, 30.0, 40.0, 50.0, 60.0, 70.0, 80.0, 90.0]);\n",
    "plt.xlabel(\"Channel Condition Number\")\n",
    "plt.ylabel(\"CDF\")\n",
    "plt.title(\"CDF of the channel condition number\");"
   ]
  },
  {
   "cell_type": "code",
   "execution_count": null,
   "metadata": {},
   "outputs": [
    {
     "ename": "NameError",
     "evalue": "name 'get_elevation_angle_model' is not defined",
     "output_type": "error",
     "traceback": [
      "\u001b[0;31m---------------------------------------------------------------------------\u001b[0m",
      "\u001b[0;31mNameError\u001b[0m                                 Traceback (most recent call last)",
      "Cell \u001b[0;32mIn[3], line 2\u001b[0m\n\u001b[1;32m      1\u001b[0m \u001b[38;5;28;01mfor\u001b[39;00m elevation_angle \u001b[38;5;129;01min\u001b[39;00m [\u001b[38;5;241m10.0\u001b[39m, \u001b[38;5;241m90.0\u001b[39m]:\n\u001b[0;32m----> 2\u001b[0m     channel_model \u001b[38;5;241m=\u001b[39m \u001b[43mget_elevation_angle_model\u001b[49m(elevation_angle)\n\u001b[1;32m      3\u001b[0m     bins, hist \u001b[38;5;241m=\u001b[39m cond_hist(channel_model)\n\u001b[1;32m      4\u001b[0m     plt\u001b[38;5;241m.\u001b[39mplot(bins, np\u001b[38;5;241m.\u001b[39mcumsum(hist))\n",
      "\u001b[0;31mNameError\u001b[0m: name 'get_elevation_angle_model' is not defined"
     ]
    }
   ],
   "source": [
    "for elevation_angle in [10.0, 90.0]:\n",
    "    channel_model = get_elevation_angle_model(elevation_angle)\n",
    "    bins, hist = cond_hist(channel_model)\n",
    "    plt.plot(bins, np.cumsum(hist))\n",
    "#plt.xlim([0,40])\n",
    "plt.legend([10.0, 90.0]);\n",
    "plt.xlabel(\"Channel Condition Number\")\n",
    "plt.ylabel(\"CDF\")\n",
    "plt.title(\"CDF of the channel condition number\");"
   ]
  },
  {
   "cell_type": "markdown",
   "metadata": {},
   "source": [
    "As we can see, the channel condition is better at highler elevation angles."
   ]
  },
  {
   "cell_type": "markdown",
   "metadata": {},
   "source": [
    "Next, we have a look at the channel coefficients. The university of Luxembourg has provided a set of measurements."
   ]
  },
  {
   "cell_type": "code",
   "execution_count": null,
   "metadata": {},
   "outputs": [],
   "source": [
    "def create_channels():\n",
    "    batch_size = 32\n",
    "    direction = \"downlink\"\n",
    "    # Array of the users. The antenna will always point at the satellite. \n",
    "    ut_array = AntennaArray(num_rows=4,\n",
    "                            num_cols=2,\n",
    "                            polarization=\"dual\",\n",
    "                            polarization_type=\"VH\",\n",
    "                            antenna_pattern=\"38.901\",\n",
    "                            carrier_frequency=carrier_frequency)\n",
    "    \n",
    "    # Aperture is a new antenna typ from the NTN standard only available for satellites\n",
    "    bs_array = AntennaArray(num_rows=1,\n",
    "                            num_cols=4,\n",
    "                            polarization=\"dual\",\n",
    "                            polarization_type=\"VH\",\n",
    "                            antenna_pattern=\"aperture\",\n",
    "                            carrier_frequency=carrier_frequency)\n",
    "    \n",
    "    # Compared to 901 the o2i chance is missing, as indoor scenarios are not supported for satellites.\n",
    "    # Additionally the elevation angle in degrees is required\n",
    "    channel_model = SubUrban(carrier_frequency=carrier_frequency,\n",
    "                        elevation_angle=elevation_angle,\n",
    "                        ut_array=ut_array,\n",
    "                        bs_array=bs_array,\n",
    "                        direction=direction,\n",
    "                        enable_pathloss=False,\n",
    "                        enable_shadow_fading=False)\n",
    "    \n",
    "    # Generate the topology\n",
    "    topology = gen_topology(batch_size=batch_size, num_ut=num_ut, scenario=scenario, elevation_angle=elevation_angle)\n",
    "    \n",
    "    # Set the topology\n",
    "    channel_model.set_topology(*topology)\n",
    "\n",
    "    cir = channel_model(1, 1)\n",
    "    \n",
    "    # Compute the frequency response\n",
    "    h = cir_to_ofdm_channel(frequencies, *cir, normalize=True)\n",
    "\n",
    "    return h\n",
    "\n",
    "def plot_user_channels(h):\n",
    "    for batch_idx in range(batch_size):\n",
    "        for us_idx in range(num_ut):\n",
    "            plt.scatter(np.real(h[batch_idx,:,us_idx,:,:,:,:]), np.imag(h[batch_idx,:,us_idx,:,:,:,:]))\n",
    "    plt.show()"
   ]
  },
  {
   "cell_type": "markdown",
   "metadata": {},
   "source": [
    "Next, we take a look at popular ML applications."
   ]
  },
  {
   "cell_type": "markdown",
   "metadata": {},
   "source": [
    "First, a simple uncoded transmission of differnt symbols over different channels."
   ]
  },
  {
   "cell_type": "code",
   "execution_count": null,
   "metadata": {},
   "outputs": [],
   "source": [
    "class E2EModel(Model):\n",
    "    def __init__(self, num_bits_per_symbol = 2):\n",
    "        super().__init__()\n",
    "        num_ut = 2\n",
    "        self.num_streams_per_tx = 1\n",
    "\n",
    "        self.rx_tx_association = np.zeros([1, num_ut])\n",
    "        self.rx_tx_association[0, :] = 1\n",
    "\n",
    "        self.sm = StreamManagement(rx_tx_association, num_streams_per_tx)\n",
    "\n",
    "        self.rg = ResourceGrid(num_ofdm_symbols=14,\n",
    "                          fft_size=128,\n",
    "                          subcarrier_spacing=30e3,\n",
    "                          num_tx=num_ut,\n",
    "                          num_streams_per_tx=num_streams_per_tx,\n",
    "                          cyclic_prefix_length=20,\n",
    "                          pilot_pattern=\"kronecker\",\n",
    "                          pilot_ofdm_symbol_indices=[2,11])\n",
    "\n",
    "        self.num_bits_per_symbol = num_bits_per_symbol# QPSK modulation\n",
    "\n",
    "        self.binary_source = BinarySource()\n",
    "\n",
    "        self.mapper = Mapper(\"qam\", num_bits_per_symbol)\n",
    "\n",
    "        self.rg_mapper = ResourceGridMapper(rg)\n",
    "\n",
    "        self.remove_nulled_scs = RemoveNulledSubcarriers(rg)\n",
    "\n",
    "        # The LS channel estimator will provide channel estimates and error variances\n",
    "        self.ls_est = LSChannelEstimator(rg, interpolation_type=\"nn\")\n",
    "\n",
    "        # The LMMSE equalizer will provide soft symbols together with noise variance estimates\n",
    "        self.lmmse_equ = LMMSEEqualizer(rg, sm)\n",
    "\n",
    "        # The demapper produces LLR for all coded bits\n",
    "        self.demapper = Demapper(\"app\", \"qam\", num_bits_per_symbol, hard_out=True)\n",
    "\n",
    "        self.channel_model = Urban(carrier_frequency=carrier_frequency,\n",
    "                                elevation_angle=elevation_angle,\n",
    "                                ut_array=ut_array,\n",
    "                                bs_array=bs_array,\n",
    "                                direction=direction,\n",
    "                                enable_pathloss=False,\n",
    "                                enable_shadow_fading=False)\n",
    "        batch_size = 64\n",
    "        num_ut = 2\n",
    "        scenario = \"urb\"\n",
    "        # Generate the topology\n",
    "        topology = gen_topology(batch_size, num_ut, scenario)\n",
    "\n",
    "        # Set the topology\n",
    "        self.channel_model.set_topology(*topology)\n",
    "        \n",
    "        # OFDM CHannel\n",
    "        self.ofdm_channel = OFDMChannel(channel_model, rg, add_awgn=True, normalize_channel=False, return_channel=True)\n",
    "        self.channel_freq = ApplyOFDMChannel(add_awgn=True)\n",
    "        self.frequencies = subcarrier_frequencies(rg.fft_size, rg.subcarrier_spacing)\n",
    "\n",
    "    def call(self, batch_size, ebno_db):\n",
    "        coderate=1.0\n",
    "        no = ebnodb2no(ebno_db, self.num_bits_per_symbol, coderate, rg)\n",
    "\n",
    "        num_sym_per_frame = 12*128\n",
    "        num_bits_per_frame = num_sym_per_frame * self.num_bits_per_symbol\n",
    "\n",
    "        b = self.binary_source([batch_size, num_ut, rg.num_streams_per_tx, num_bits_per_frame])\n",
    "        x = self.mapper(b)\n",
    "\n",
    "        x_rg = self.rg_mapper(x)\n",
    "\n",
    "        a, tau = self.channel_model(num_time_samples=rg.num_ofdm_symbols, sampling_frequency=1/rg.ofdm_symbol_duration)\n",
    "        h_freq = cir_to_ofdm_channel(self.frequencies, a, tau, normalize=True)\n",
    "\n",
    "        y = self.channel_freq([x_rg, h_freq, no])\n",
    "        h_hat, err_var = self.ls_est([y, no])\n",
    "        x_hat, no_eff = self.lmmse_equ([y, h_hat, err_var, no])\n",
    "        b_hat = self.demapper([x_hat, no_eff])\n",
    "        return b, b_hat\n",
    "        #print(\"BER: {}\".format(compute_ber(b, b_hat).numpy()))\n",
    "        #sum_temp += compute_ber(b, b_hat).numpy()\n",
    "        #print(\"for no \", no, \" the ber was \", sum_temp/num_reps)\n",
    "        #sum_temp = 0\n",
    "\n",
    "\n"
   ]
  },
  {
   "cell_type": "code",
   "execution_count": null,
   "metadata": {},
   "outputs": [
    {
     "ename": "NameError",
     "evalue": "name 'rx_tx_association' is not defined",
     "output_type": "error",
     "traceback": [
      "\u001b[0;31m---------------------------------------------------------------------------\u001b[0m",
      "\u001b[0;31mNameError\u001b[0m                                 Traceback (most recent call last)",
      "Cell \u001b[0;32mIn[6], line 9\u001b[0m\n\u001b[1;32m      4\u001b[0m ebno_db_step_size \u001b[38;5;241m=\u001b[39m \u001b[38;5;241m2.0\u001b[39m\n\u001b[1;32m      5\u001b[0m ebno_dbs \u001b[38;5;241m=\u001b[39m np\u001b[38;5;241m.\u001b[39marange(ebno_db_min, \u001b[38;5;66;03m# Min SNR for evaluation\u001b[39;00m\n\u001b[1;32m      6\u001b[0m                      ebno_db_max, \u001b[38;5;66;03m# Max SNR for evaluation\u001b[39;00m\n\u001b[1;32m      7\u001b[0m                      ebno_db_step_size) \u001b[38;5;66;03m# Step\u001b[39;00m\n\u001b[0;32m----> 9\u001b[0m curr_model \u001b[38;5;241m=\u001b[39m \u001b[43mE2EModel\u001b[49m\u001b[43m(\u001b[49m\u001b[43mnum_bits_per_symbol\u001b[49m\u001b[43m \u001b[49m\u001b[38;5;241;43m=\u001b[39;49m\u001b[43m \u001b[49m\u001b[38;5;241;43m2\u001b[39;49m\u001b[43m)\u001b[49m\n\u001b[1;32m     10\u001b[0m _,bler \u001b[38;5;241m=\u001b[39m sim_ber(curr_model, ebno_dbs, batch_size\u001b[38;5;241m=\u001b[39m\u001b[38;5;241m128\u001b[39m, num_target_block_errors\u001b[38;5;241m=\u001b[39m\u001b[38;5;241m1000\u001b[39m, max_mc_iter\u001b[38;5;241m=\u001b[39m\u001b[38;5;241m10\u001b[39m)\n",
      "Cell \u001b[0;32mIn[5], line 10\u001b[0m, in \u001b[0;36mE2EModel.__init__\u001b[0;34m(self, num_bits_per_symbol)\u001b[0m\n\u001b[1;32m      7\u001b[0m \u001b[38;5;28mself\u001b[39m\u001b[38;5;241m.\u001b[39mrx_tx_association \u001b[38;5;241m=\u001b[39m np\u001b[38;5;241m.\u001b[39mzeros([\u001b[38;5;241m1\u001b[39m, num_ut])\n\u001b[1;32m      8\u001b[0m \u001b[38;5;28mself\u001b[39m\u001b[38;5;241m.\u001b[39mrx_tx_association[\u001b[38;5;241m0\u001b[39m, :] \u001b[38;5;241m=\u001b[39m \u001b[38;5;241m1\u001b[39m\n\u001b[0;32m---> 10\u001b[0m \u001b[38;5;28mself\u001b[39m\u001b[38;5;241m.\u001b[39msm \u001b[38;5;241m=\u001b[39m StreamManagement(\u001b[43mrx_tx_association\u001b[49m, num_streams_per_tx)\n\u001b[1;32m     12\u001b[0m \u001b[38;5;28mself\u001b[39m\u001b[38;5;241m.\u001b[39mrg \u001b[38;5;241m=\u001b[39m ResourceGrid(num_ofdm_symbols\u001b[38;5;241m=\u001b[39m\u001b[38;5;241m14\u001b[39m,\n\u001b[1;32m     13\u001b[0m                   fft_size\u001b[38;5;241m=\u001b[39m\u001b[38;5;241m128\u001b[39m,\n\u001b[1;32m     14\u001b[0m                   subcarrier_spacing\u001b[38;5;241m=\u001b[39m\u001b[38;5;241m30e3\u001b[39m,\n\u001b[0;32m   (...)\u001b[0m\n\u001b[1;32m     18\u001b[0m                   pilot_pattern\u001b[38;5;241m=\u001b[39m\u001b[38;5;124m\"\u001b[39m\u001b[38;5;124mkronecker\u001b[39m\u001b[38;5;124m\"\u001b[39m,\n\u001b[1;32m     19\u001b[0m                   pilot_ofdm_symbol_indices\u001b[38;5;241m=\u001b[39m[\u001b[38;5;241m2\u001b[39m,\u001b[38;5;241m11\u001b[39m])\n\u001b[1;32m     21\u001b[0m \u001b[38;5;28mself\u001b[39m\u001b[38;5;241m.\u001b[39mnum_bits_per_symbol \u001b[38;5;241m=\u001b[39m num_bits_per_symbol\u001b[38;5;66;03m# QPSK modulation\u001b[39;00m\n",
      "\u001b[0;31mNameError\u001b[0m: name 'rx_tx_association' is not defined"
     ]
    }
   ],
   "source": [
    "# Range of SNRs over which the systems are evaluated\n",
    "ebno_db_min = 0.0\n",
    "ebno_db_max = 10.0\n",
    "ebno_db_step_size = 2.0\n",
    "ebno_dbs = np.arange(ebno_db_min, # Min SNR for evaluation\n",
    "                     ebno_db_max, # Max SNR for evaluation\n",
    "                     ebno_db_step_size) # Step\n",
    "\n",
    "curr_model = E2EModel(num_bits_per_symbol = 2)\n",
    "_,bler = sim_ber(curr_model, ebno_dbs, batch_size=128, num_target_block_errors=1000, max_mc_iter=10)\n"
   ]
  },
  {
   "cell_type": "code",
   "execution_count": null,
   "metadata": {},
   "outputs": [
    {
     "ename": "NameError",
     "evalue": "name 'bler' is not defined",
     "output_type": "error",
     "traceback": [
      "\u001b[0;31m---------------------------------------------------------------------------\u001b[0m",
      "\u001b[0;31mNameError\u001b[0m                                 Traceback (most recent call last)",
      "Cell \u001b[0;32mIn[7], line 1\u001b[0m\n\u001b[0;32m----> 1\u001b[0m plt\u001b[38;5;241m.\u001b[39mplot(\u001b[43mbler\u001b[49m)\n",
      "\u001b[0;31mNameError\u001b[0m: name 'bler' is not defined"
     ]
    }
   ],
   "source": [
    "plt.plot(bler)"
   ]
  },
  {
   "cell_type": "code",
   "execution_count": null,
   "metadata": {},
   "outputs": [],
   "source": []
  }
 ],
 "metadata": {
  "kernelspec": {
   "display_name": "sionna_kernel",
   "language": "python",
   "name": "sionna_kernel"
  },
  "language_info": {
   "codemirror_mode": {
    "name": "ipython",
    "version": 3
   },
   "file_extension": ".py",
   "mimetype": "text/x-python",
   "name": "python",
   "nbconvert_exporter": "python",
   "pygments_lexer": "ipython3",
   "version": "3.9.17"
  }
 },
 "nbformat": 4,
 "nbformat_minor": 4
}
